{
 "cells": [
  {
   "cell_type": "code",
   "execution_count": 6,
   "metadata": {},
   "outputs": [],
   "source": [
    "import fasttext\n",
    "import gensim\n",
    "import codecs\n",
    "import numpy as np"
   ]
  },
  {
   "cell_type": "code",
   "execution_count": 2,
   "metadata": {},
   "outputs": [],
   "source": [
    "model = fasttext.train_unsupervised('data/arxiv_plain.txt', epoch=1, dim=200)"
   ]
  },
  {
   "cell_type": "code",
   "execution_count": 10,
   "metadata": {},
   "outputs": [],
   "source": [
    "with codecs.open('data/embeddings_fasttext.txt', 'w') as emb:\n",
    "    with codecs.open('data/test_arxiv_plain.txt') as f:\n",
    "        for line in f:\n",
    "            tokens = gensim.utils.to_unicode(line).split()\n",
    "            id_ = tokens[0]\n",
    "            words = tokens[1:]\n",
    "            embedding = np.zeros(200)\n",
    "            for word in words:\n",
    "                embedding += model.get_word_vector(word)\n",
    "            if len(words) > 0:\n",
    "                embedding /= len(words)\n",
    "                emb.write('d-' + id_ + ' ' + ' '.join(map(str, embedding)) + '\\n')"
   ]
  },
  {
   "cell_type": "code",
   "execution_count": null,
   "metadata": {},
   "outputs": [],
   "source": []
  }
 ],
 "metadata": {
  "kernelspec": {
   "display_name": "Python 3",
   "language": "python",
   "name": "python3"
  },
  "language_info": {
   "codemirror_mode": {
    "name": "ipython",
    "version": 3
   },
   "file_extension": ".py",
   "mimetype": "text/x-python",
   "name": "python",
   "nbconvert_exporter": "python",
   "pygments_lexer": "ipython3",
   "version": "3.8.5"
  }
 },
 "nbformat": 4,
 "nbformat_minor": 4
}
