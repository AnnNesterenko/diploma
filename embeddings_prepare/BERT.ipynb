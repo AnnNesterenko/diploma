{
 "cells": [
  {
   "cell_type": "code",
   "execution_count": 3,
   "id": "c7f9c5f7",
   "metadata": {},
   "outputs": [],
   "source": [
    "import transformers as ppb\n",
    "import codecs"
   ]
  },
  {
   "cell_type": "code",
   "execution_count": 83,
   "id": "48774e9d",
   "metadata": {},
   "outputs": [],
   "source": [
    "model_class = ppb.BertModel\n",
    "tokenizer_class = ppb.BertTokenizer\n",
    "pretrained_weights = 'bert-base-cased'\n",
    "\n",
    "tokenizer = tokenizer_class.from_pretrained(pretrained_weights)\n",
    "model = model_class.from_pretrained(pretrained_weights)"
   ]
  },
  {
   "cell_type": "markdown",
   "id": "8c747c46",
   "metadata": {},
   "source": [
    "### MIND"
   ]
  },
  {
   "cell_type": "code",
   "execution_count": 112,
   "id": "ac5716c9",
   "metadata": {
    "scrolled": true
   },
   "outputs": [],
   "source": [
    "with codecs.open(\"data/MIND/texts_test.txt\") as f:\n",
    "    with codecs.open(\"data/MIND/embeddings_BERT_test.txt\", 'w') as e:\n",
    "        for line in f:\n",
    "            if len(line.split()) < 2:\n",
    "                continue\n",
    "            id_, text = line.split(maxsplit=1)\n",
    "            marked_text = \"[CLS] \" + text + \" [SEP]\"\n",
    "            \n",
    "            tokenized_text = tokenizer(marked_text, return_tensors=\"pt\")\n",
    "            if tokenized_text['input_ids'].shape[1] > 512:\n",
    "                continue\n",
    "            outputs = model(**tokenized_text)\n",
    "            last_hidden_states = outputs[0]\n",
    "            embedding = torch.mean(last_hidden_states, dim=1).tolist()[0]\n",
    "\n",
    "            line = id_ + ' ' + ' '.join(map(str, embedding)) + '\\n'\n",
    "            e.write(line)"
   ]
  },
  {
   "cell_type": "code",
   "execution_count": 113,
   "id": "4bd24a95",
   "metadata": {},
   "outputs": [],
   "source": [
    "with codecs.open(\"data/MIND/texts_train.txt\") as f:\n",
    "    with codecs.open(\"data/MIND/embeddings_BERT_train.txt\", 'w') as e:\n",
    "        for line in f:\n",
    "            if len(line.split()) < 2:\n",
    "                continue\n",
    "            id_, text = line.split(maxsplit=1)\n",
    "            marked_text = \"[CLS] \" + text + \" [SEP]\"\n",
    "            \n",
    "            tokenized_text = tokenizer(marked_text, return_tensors=\"pt\")\n",
    "            if tokenized_text['input_ids'].shape[1] > 512:\n",
    "                continue\n",
    "            outputs = model(**tokenized_text)\n",
    "            last_hidden_states = outputs[0]\n",
    "            embedding = torch.mean(last_hidden_states, dim=1).tolist()[0]\n",
    "\n",
    "            line = id_ + ' ' + ' '.join(map(str, embedding)) + '\\n'\n",
    "            e.write(line)"
   ]
  },
  {
   "cell_type": "markdown",
   "id": "cbc2da64",
   "metadata": {},
   "source": [
    "### ARXIV"
   ]
  },
  {
   "cell_type": "code",
   "execution_count": 114,
   "id": "234b67b6",
   "metadata": {},
   "outputs": [],
   "source": [
    "with codecs.open(\"data/ARXIV/test_arxiv_plain.txt\") as f:\n",
    "    with codecs.open(\"data/ARXIV/embeddings_BERT.txt\", 'w') as e:\n",
    "        for line in f:\n",
    "            if len(line.split()) < 2:\n",
    "                continue\n",
    "            id_, text = line.split(maxsplit=1)\n",
    "            marked_text = \"[CLS] \" + text + \" [SEP]\"\n",
    "            \n",
    "            tokenized_text = tokenizer(marked_text, return_tensors=\"pt\")\n",
    "            if tokenized_text['input_ids'].shape[1] > 512:\n",
    "                continue\n",
    "            outputs = model(**tokenized_text)\n",
    "            last_hidden_states = outputs[0]\n",
    "            embedding = torch.mean(last_hidden_states, dim=1).tolist()[0]\n",
    "\n",
    "            line = id_ + ' ' + ' '.join(map(str, embedding)) + '\\n'\n",
    "            e.write(line)"
   ]
  }
 ],
 "metadata": {
  "kernelspec": {
   "display_name": "Python 3",
   "language": "python",
   "name": "python3"
  },
  "language_info": {
   "codemirror_mode": {
    "name": "ipython",
    "version": 3
   },
   "file_extension": ".py",
   "mimetype": "text/x-python",
   "name": "python",
   "nbconvert_exporter": "python",
   "pygments_lexer": "ipython3",
   "version": "3.8.5"
  }
 },
 "nbformat": 4,
 "nbformat_minor": 5
}
